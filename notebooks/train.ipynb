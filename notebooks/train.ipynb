{
 "cells": [
  {
   "cell_type": "code",
   "execution_count": 1,
   "metadata": {},
   "outputs": [],
   "source": [
    "# OPTIONAL: Load the \"autoreload\" extension so that code can change\n",
    "%load_ext autoreload\n",
    "\n",
    "# OPTIONAL: always reload modules so that as you change code in src, it gets loaded\n",
    "%autoreload 2\n",
    "\n",
    "import sys, os\n",
    "# sys.path.append('../src/models/')"
   ]
  },
  {
   "cell_type": "code",
   "execution_count": 2,
   "metadata": {},
   "outputs": [
    {
     "name": "stderr",
     "output_type": "stream",
     "text": [
      "Using TensorFlow backend.\n"
     ]
    },
    {
     "name": "stdout",
     "output_type": "stream",
     "text": [
      "Segmentation Models: using `keras` framework.\n"
     ]
    }
   ],
   "source": [
    "import matplotlib.pyplot as plt\n",
    "from src.models.train_model import Network"
   ]
  },
  {
   "cell_type": "code",
   "execution_count": 3,
   "metadata": {},
   "outputs": [],
   "source": [
    "net = Network(\n",
    "    train_data_root_dir='../data/processed/train/',\n",
    "    val_data_root_dir='../data/processed/val/',\n",
    "    test_data_root_dir='../data/processed/test/',\n",
    "    model_out='./models/houses_model_unet.h5'\n",
    ")"
   ]
  },
  {
   "cell_type": "code",
   "execution_count": 4,
   "metadata": {},
   "outputs": [
    {
     "name": "stdout",
     "output_type": "stream",
     "text": [
      "Epoch 1/100\n",
      "28/28 [==============================] - 35s 1s/step - loss: 1.3321 - iou_score: 0.2239 - val_loss: 3.5183 - val_iou_score: 0.2380\n",
      "Epoch 2/100\n",
      "28/28 [==============================] - 17s 591ms/step - loss: 1.0584 - iou_score: 0.3013 - val_loss: 1.1210 - val_iou_score: 0.2076\n",
      "Epoch 3/100\n",
      "28/28 [==============================] - 17s 617ms/step - loss: 0.9754 - iou_score: 0.3431 - val_loss: 1.0833 - val_iou_score: 0.2314\n",
      "Epoch 4/100\n",
      "28/28 [==============================] - 17s 595ms/step - loss: 0.9566 - iou_score: 0.3691 - val_loss: 8.5829 - val_iou_score: 0.2523\n",
      "Epoch 5/100\n",
      "28/28 [==============================] - 17s 593ms/step - loss: 0.9236 - iou_score: 0.3823 - val_loss: 1.2330 - val_iou_score: 0.2554\n",
      "Epoch 6/100\n",
      "28/28 [==============================] - 17s 591ms/step - loss: 0.9052 - iou_score: 0.3972 - val_loss: 2.0828 - val_iou_score: 0.3483\n",
      "Epoch 7/100\n",
      "28/28 [==============================] - 17s 596ms/step - loss: 0.8924 - iou_score: 0.3999 - val_loss: 0.9180 - val_iou_score: 0.3520\n",
      "Epoch 8/100\n",
      "28/28 [==============================] - 17s 594ms/step - loss: 0.8394 - iou_score: 0.4367 - val_loss: 1.1752 - val_iou_score: 0.3520\n",
      "Epoch 9/100\n",
      "28/28 [==============================] - 17s 598ms/step - loss: 0.8363 - iou_score: 0.4357 - val_loss: 1.1240 - val_iou_score: 0.3963\n",
      "Epoch 10/100\n",
      "28/28 [==============================] - 17s 616ms/step - loss: 0.8625 - iou_score: 0.4259 - val_loss: 0.9009 - val_iou_score: 0.4139\n",
      "\n",
      "Epoch 00010: val_iou_score improved from -inf to 0.41385, saving model to ./models/houses_model_unet.h5\n",
      "Epoch 11/100\n",
      "28/28 [==============================] - 17s 612ms/step - loss: 0.8486 - iou_score: 0.4293 - val_loss: 0.8238 - val_iou_score: 0.4102\n",
      "Epoch 12/100\n",
      "28/28 [==============================] - 17s 598ms/step - loss: 0.8125 - iou_score: 0.4630 - val_loss: 0.9214 - val_iou_score: 0.4200\n",
      "Epoch 13/100\n",
      "28/28 [==============================] - 17s 595ms/step - loss: 0.7940 - iou_score: 0.4661 - val_loss: 0.8362 - val_iou_score: 0.4239\n",
      "Epoch 14/100\n",
      "28/28 [==============================] - 18s 625ms/step - loss: 0.8121 - iou_score: 0.4624 - val_loss: 0.8918 - val_iou_score: 0.4209\n",
      "Epoch 15/100\n",
      "28/28 [==============================] - 18s 630ms/step - loss: 0.8104 - iou_score: 0.4586 - val_loss: 0.9501 - val_iou_score: 0.4262\n",
      "Epoch 16/100\n",
      "28/28 [==============================] - 18s 660ms/step - loss: 0.7762 - iou_score: 0.4800 - val_loss: 0.9684 - val_iou_score: 0.4382\n",
      "\n",
      "Epoch 00016: ReduceLROnPlateau reducing learning rate to 0.00010000000474974513.\n",
      "Epoch 17/100\n",
      "28/28 [==============================] - 19s 665ms/step - loss: 0.7981 - iou_score: 0.4584 - val_loss: 0.6446 - val_iou_score: 0.4803\n",
      "Epoch 18/100\n",
      "28/28 [==============================] - 19s 673ms/step - loss: 0.7568 - iou_score: 0.4931 - val_loss: 0.7020 - val_iou_score: 0.4924\n",
      "Epoch 19/100\n",
      "28/28 [==============================] - 18s 637ms/step - loss: 0.7761 - iou_score: 0.4883 - val_loss: 0.7432 - val_iou_score: 0.4904\n",
      "Epoch 20/100\n",
      "28/28 [==============================] - 18s 631ms/step - loss: 0.7405 - iou_score: 0.5046 - val_loss: 0.8732 - val_iou_score: 0.4896\n",
      "\n",
      "Epoch 00020: val_iou_score improved from 0.41385 to 0.48962, saving model to ./models/houses_model_unet.h5\n",
      "Epoch 21/100\n",
      "28/28 [==============================] - 18s 649ms/step - loss: 0.7916 - iou_score: 0.4804 - val_loss: 0.5127 - val_iou_score: 0.4826\n",
      "Epoch 22/100\n",
      "28/28 [==============================] - 18s 636ms/step - loss: 0.7836 - iou_score: 0.4831 - val_loss: 0.6162 - val_iou_score: 0.4931\n",
      "Epoch 23/100\n",
      "28/28 [==============================] - 18s 627ms/step - loss: 0.7466 - iou_score: 0.4928 - val_loss: 0.5990 - val_iou_score: 0.5083\n",
      "Epoch 24/100\n",
      "28/28 [==============================] - 18s 630ms/step - loss: 0.7667 - iou_score: 0.4908 - val_loss: 0.6880 - val_iou_score: 0.5160\n",
      "Epoch 25/100\n",
      "28/28 [==============================] - 18s 628ms/step - loss: 0.7715 - iou_score: 0.4732 - val_loss: 0.5658 - val_iou_score: 0.5239\n",
      "Epoch 26/100\n",
      "28/28 [==============================] - 17s 621ms/step - loss: 0.7646 - iou_score: 0.4881 - val_loss: 0.4687 - val_iou_score: 0.5237\n",
      "Epoch 27/100\n",
      "28/28 [==============================] - 18s 627ms/step - loss: 0.7373 - iou_score: 0.5036 - val_loss: 0.6312 - val_iou_score: 0.5286\n",
      "Epoch 28/100\n",
      "28/28 [==============================] - 18s 627ms/step - loss: 0.7213 - iou_score: 0.5125 - val_loss: 0.6456 - val_iou_score: 0.5350\n",
      "Epoch 29/100\n",
      "28/28 [==============================] - 18s 627ms/step - loss: 0.7135 - iou_score: 0.5074 - val_loss: 0.5601 - val_iou_score: 0.5330\n",
      "Epoch 30/100\n",
      "28/28 [==============================] - 17s 624ms/step - loss: 0.7330 - iou_score: 0.5172 - val_loss: 0.6682 - val_iou_score: 0.5377\n",
      "\n",
      "Epoch 00030: val_iou_score improved from 0.48962 to 0.53772, saving model to ./models/houses_model_unet.h5\n",
      "Epoch 31/100\n",
      "28/28 [==============================] - 17s 625ms/step - loss: 0.7096 - iou_score: 0.5278 - val_loss: 0.6306 - val_iou_score: 0.5334\n",
      "\n",
      "Epoch 00031: ReduceLROnPlateau reducing learning rate to 1.0000000474974514e-05.\n",
      "Epoch 32/100\n",
      "28/28 [==============================] - 18s 627ms/step - loss: 0.7281 - iou_score: 0.5130 - val_loss: 0.6897 - val_iou_score: 0.5377\n",
      "Epoch 33/100\n",
      "28/28 [==============================] - 18s 642ms/step - loss: 0.7425 - iou_score: 0.5035 - val_loss: 0.6919 - val_iou_score: 0.5414\n",
      "Epoch 34/100\n",
      "28/28 [==============================] - 17s 624ms/step - loss: 0.7455 - iou_score: 0.5059 - val_loss: 0.4945 - val_iou_score: 0.5442\n",
      "Epoch 35/100\n",
      "28/28 [==============================] - 18s 626ms/step - loss: 0.7168 - iou_score: 0.5119 - val_loss: 0.5120 - val_iou_score: 0.5465\n",
      "Epoch 36/100\n",
      "28/28 [==============================] - 18s 627ms/step - loss: 0.7466 - iou_score: 0.4934 - val_loss: 0.4328 - val_iou_score: 0.5487\n",
      "Epoch 37/100\n",
      "28/28 [==============================] - 18s 626ms/step - loss: 0.7300 - iou_score: 0.5053 - val_loss: 0.5118 - val_iou_score: 0.5495\n",
      "Epoch 38/100\n",
      "28/28 [==============================] - 18s 633ms/step - loss: 0.7404 - iou_score: 0.5073 - val_loss: 0.5990 - val_iou_score: 0.5499\n",
      "Epoch 39/100\n",
      "28/28 [==============================] - 18s 637ms/step - loss: 0.7206 - iou_score: 0.5201 - val_loss: 0.5987 - val_iou_score: 0.5501\n",
      "Epoch 40/100\n",
      "28/28 [==============================] - 18s 659ms/step - loss: 0.7396 - iou_score: 0.4990 - val_loss: 0.4855 - val_iou_score: 0.5517\n",
      "\n",
      "Epoch 00040: val_iou_score improved from 0.53772 to 0.55174, saving model to ./models/houses_model_unet.h5\n",
      "Epoch 41/100\n",
      "28/28 [==============================] - 17s 620ms/step - loss: 0.7680 - iou_score: 0.4837 - val_loss: 0.6781 - val_iou_score: 0.5509\n",
      "\n",
      "Epoch 00041: ReduceLROnPlateau reducing learning rate to 1.0000000656873453e-06.\n",
      "Epoch 42/100\n",
      "28/28 [==============================] - 17s 619ms/step - loss: 0.7558 - iou_score: 0.4959 - val_loss: 0.4451 - val_iou_score: 0.5523\n",
      "Epoch 43/100\n",
      "28/28 [==============================] - 17s 597ms/step - loss: 0.7445 - iou_score: 0.5064 - val_loss: 0.6663 - val_iou_score: 0.5519\n",
      "Epoch 44/100\n",
      "28/28 [==============================] - 17s 601ms/step - loss: 0.7069 - iou_score: 0.5336 - val_loss: 0.6871 - val_iou_score: 0.5509\n",
      "Epoch 45/100\n",
      "28/28 [==============================] - 18s 630ms/step - loss: 0.7150 - iou_score: 0.5090 - val_loss: 0.6737 - val_iou_score: 0.5517\n",
      "Epoch 46/100\n",
      "28/28 [==============================] - 17s 624ms/step - loss: 0.7279 - iou_score: 0.5076 - val_loss: 0.5597 - val_iou_score: 0.5525\n",
      "Epoch 47/100\n",
      "28/28 [==============================] - 18s 625ms/step - loss: 0.7372 - iou_score: 0.5084 - val_loss: 0.6601 - val_iou_score: 0.5520\n",
      "Epoch 48/100\n",
      "28/28 [==============================] - 17s 624ms/step - loss: 0.7112 - iou_score: 0.5141 - val_loss: 0.4806 - val_iou_score: 0.5522\n",
      "Epoch 49/100\n",
      "28/28 [==============================] - 18s 639ms/step - loss: 0.7174 - iou_score: 0.5139 - val_loss: 0.5869 - val_iou_score: 0.5522\n",
      "Epoch 50/100\n",
      "28/28 [==============================] - 18s 625ms/step - loss: 0.7520 - iou_score: 0.4884 - val_loss: 0.6636 - val_iou_score: 0.5532\n",
      "\n",
      "Epoch 00050: val_iou_score improved from 0.55174 to 0.55318, saving model to ./models/houses_model_unet.h5\n",
      "\n",
      "Epoch 00050: ReduceLROnPlateau reducing learning rate to 1e-06.\n",
      "Epoch 51/100\n"
     ]
    },
    {
     "name": "stdout",
     "output_type": "stream",
     "text": [
      "28/28 [==============================] - 17s 604ms/step - loss: 0.7074 - iou_score: 0.5141 - val_loss: 0.5401 - val_iou_score: 0.5532\n",
      "Epoch 00051: early stopping\n"
     ]
    }
   ],
   "source": [
    "net.train()"
   ]
  },
  {
   "cell_type": "code",
   "execution_count": 5,
   "metadata": {},
   "outputs": [
    {
     "data": {
      "image/png": "[encoded data removed]",
      "text/plain": [
       "<Figure size 1080x360 with 2 Axes>"
      ]
     },
     "metadata": {
      "needs_background": "light"
     },
     "output_type": "display_data"
    }
   ],
   "source": [
    "fig = net.plot_training_history()"
   ]
  },
  {
   "cell_type": "code",
   "execution_count": 7,
   "metadata": {},
   "outputs": [
    {
     "name": "stderr",
     "output_type": "stream",
     "text": [
      "2020-02-03 13:24:52,303 - src.models.train_model - INFO - Loss: 0.61311\n",
      "mean iou_score: 0.51776\n",
      "\n"
     ]
    },
    {
     "name": "stdout",
     "output_type": "stream",
     "text": [
      "Loss: 0.61311\n",
      "mean iou_score: 0.51776\n",
      "\n"
     ]
    }
   ],
   "source": [
    "print(net.test())"
   ]
  },
  {
   "cell_type": "code",
   "execution_count": null,
   "metadata": {},
   "outputs": [],
   "source": []
  }
 ],
 "metadata": {
  "kernelspec": {
   "display_name": "Python 3",
   "language": "python",
   "name": "python3"
  },
  "language_info": {
   "codemirror_mode": {
    "name": "ipython",
    "version": 3
   },
   "file_extension": ".py",
   "mimetype": "text/x-python",
   "name": "python",
   "nbconvert_exporter": "python",
   "pygments_lexer": "ipython3",
   "version": "3.7.5"
  }
 },
 "nbformat": 4,
 "nbformat_minor": 4
}
